{
 "cells": [
  {
   "cell_type": "markdown",
   "id": "e077279e-b2e9-4d41-980b-2934c14e9e18",
   "metadata": {},
   "source": [
    "1. Declare two variables, `x` and `y`, and assign them integer values.\n",
    "Swap the values of these variables without using any temporary\n",
    "variable."
   ]
  },
  {
   "cell_type": "markdown",
   "id": "77abf3a8-ec37-48b7-9404-f162a45e1096",
   "metadata": {},
   "source": [
    "Assigning 10 and 20 to x and y respectively"
   ]
  },
  {
   "cell_type": "code",
   "execution_count": 1,
   "id": "2a0f1d0e-3da2-4af1-bd70-341f91c5487d",
   "metadata": {},
   "outputs": [],
   "source": [
    "x, y = 10,20"
   ]
  },
  {
   "cell_type": "code",
   "execution_count": 2,
   "id": "e5e7329c-5e80-4d26-87a5-5a03c75b4544",
   "metadata": {},
   "outputs": [
    {
     "name": "stdout",
     "output_type": "stream",
     "text": [
      "10 20\n"
     ]
    }
   ],
   "source": [
    "print(x,y)"
   ]
  },
  {
   "cell_type": "markdown",
   "id": "60774c73-4ea2-4a49-86f2-48d716239b7c",
   "metadata": {},
   "source": [
    "swapping the values"
   ]
  },
  {
   "cell_type": "code",
   "execution_count": 3,
   "id": "53def429-c432-4f82-b89b-71b31c1df031",
   "metadata": {},
   "outputs": [],
   "source": [
    "x,y = y, x"
   ]
  },
  {
   "cell_type": "code",
   "execution_count": 4,
   "id": "92d4fdbb-e27c-457e-8442-1565fcb344fc",
   "metadata": {},
   "outputs": [
    {
     "name": "stdout",
     "output_type": "stream",
     "text": [
      "20 10\n"
     ]
    }
   ],
   "source": [
    "print(x,y)"
   ]
  },
  {
   "cell_type": "markdown",
   "id": "6f5810fb-5f01-4067-b1d9-ad811ff48f54",
   "metadata": {},
   "source": [
    "2. Create a program that calculates the area of a rectangle. Take the\n",
    "length and width as inputs from the user and store them in variables.\n",
    "Calculate and display the area."
   ]
  },
  {
   "cell_type": "code",
   "execution_count": 5,
   "id": "65f3e3d3-5778-41d8-a72b-f46084706841",
   "metadata": {},
   "outputs": [
    {
     "name": "stdin",
     "output_type": "stream",
     "text": [
      " 10\n"
     ]
    }
   ],
   "source": [
    "length = int(input())"
   ]
  },
  {
   "cell_type": "code",
   "execution_count": 6,
   "id": "070e7d42-7a8f-48a3-bc6d-731d98bcb3aa",
   "metadata": {},
   "outputs": [
    {
     "name": "stdin",
     "output_type": "stream",
     "text": [
      " 20\n"
     ]
    }
   ],
   "source": [
    "width = int(input())"
   ]
  },
  {
   "cell_type": "code",
   "execution_count": 7,
   "id": "b77ef4c2-5ff8-49bc-a838-16dd087722f1",
   "metadata": {},
   "outputs": [],
   "source": [
    "area = length * width"
   ]
  },
  {
   "cell_type": "code",
   "execution_count": 8,
   "id": "74577da6-3eb6-4a27-8451-1a3da1f6e487",
   "metadata": {},
   "outputs": [
    {
     "name": "stdout",
     "output_type": "stream",
     "text": [
      "The area is:  200\n"
     ]
    }
   ],
   "source": [
    "print('The area is: ', area)"
   ]
  },
  {
   "cell_type": "markdown",
   "id": "683b94af-b8d6-417b-b57b-8b7c431a1c60",
   "metadata": {},
   "source": [
    "3. Write a Python program that converts temperature from Celsius to\n",
    "Fahrenheit. Take the temperature in Celsius as input, store it in a\n",
    "variable, convert it to Fahrenheit, and display the result."
   ]
  },
  {
   "cell_type": "code",
   "execution_count": 2,
   "id": "7cfb6725-4709-4c5e-906e-9a82742d084f",
   "metadata": {},
   "outputs": [
    {
     "name": "stdin",
     "output_type": "stream",
     "text": [
      " 38\n"
     ]
    }
   ],
   "source": [
    "celsius = float(input())"
   ]
  },
  {
   "cell_type": "code",
   "execution_count": 3,
   "id": "aa05583a-fef9-40e4-95c2-775d9be0a542",
   "metadata": {},
   "outputs": [],
   "source": [
    "fahrenheit = (celsius * 9/5 ) + 32"
   ]
  },
  {
   "cell_type": "code",
   "execution_count": 4,
   "id": "2c3d5ca9-08a9-44c2-80c2-821d6d5294c8",
   "metadata": {},
   "outputs": [
    {
     "name": "stdout",
     "output_type": "stream",
     "text": [
      "100.4\n"
     ]
    }
   ],
   "source": [
    "print(fahrenheit)"
   ]
  },
  {
   "cell_type": "code",
   "execution_count": null,
   "id": "7851db9c-4155-49b8-97d8-93b010f462b5",
   "metadata": {},
   "outputs": [],
   "source": []
  }
 ],
 "metadata": {
  "kernelspec": {
   "display_name": "Python 3 (ipykernel)",
   "language": "python",
   "name": "python3"
  },
  "language_info": {
   "codemirror_mode": {
    "name": "ipython",
    "version": 3
   },
   "file_extension": ".py",
   "mimetype": "text/x-python",
   "name": "python",
   "nbconvert_exporter": "python",
   "pygments_lexer": "ipython3",
   "version": "3.10.8"
  }
 },
 "nbformat": 4,
 "nbformat_minor": 5
}
