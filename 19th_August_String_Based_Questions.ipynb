{
 "cells": [
  {
   "cell_type": "markdown",
   "id": "acf224d7-3d21-4390-b21a-acdd0273fc13",
   "metadata": {},
   "source": [
    "1. Write a Python program that takes a string as input and prints the length of the string.\n",
    "\n",
    "\n",
    "\n"
   ]
  },
  {
   "cell_type": "code",
   "execution_count": 1,
   "id": "0d317457-325f-45a2-9b3d-7e8a1c628aa0",
   "metadata": {},
   "outputs": [
    {
     "name": "stdin",
     "output_type": "stream",
     "text": [
      " myteststring\n"
     ]
    }
   ],
   "source": [
    "input_str = input()"
   ]
  },
  {
   "cell_type": "code",
   "execution_count": 2,
   "id": "9421d957-d6ca-4563-8836-7f3e18e6d5a9",
   "metadata": {},
   "outputs": [
    {
     "name": "stdout",
     "output_type": "stream",
     "text": [
      "12\n"
     ]
    }
   ],
   "source": [
    "print(len(input_str))"
   ]
  },
  {
   "cell_type": "markdown",
   "id": "9100e4fc-5bf6-466f-877f-307577298223",
   "metadata": {},
   "source": [
    "2. Create a program that takes a sentence from the user and counts the number of vowels (a, e, i, o, u) in the string."
   ]
  },
  {
   "cell_type": "code",
   "execution_count": 6,
   "id": "4eaafff6-6d63-487e-9e45-45740ac96cba",
   "metadata": {},
   "outputs": [
    {
     "name": "stdin",
     "output_type": "stream",
     "text": [
      " I am testing my function\n"
     ]
    }
   ],
   "source": [
    "sent = input()"
   ]
  },
  {
   "cell_type": "code",
   "execution_count": 7,
   "id": "acc85270-0709-4cdb-b3d4-ac8541c14cb6",
   "metadata": {},
   "outputs": [
    {
     "name": "stdout",
     "output_type": "stream",
     "text": [
      "count of a  1\n",
      "count of e  1\n",
      "count of i  2\n",
      "count of o  1\n",
      "count of u  1\n"
     ]
    }
   ],
   "source": [
    "a_count = sent.count('a')\n",
    "print('count of a ', a_count)\n",
    "a_count = sent.count('e')\n",
    "print('count of e ', a_count)\n",
    "a_count = sent.count('i')\n",
    "print('count of i ', a_count)\n",
    "a_count = sent.count('o')\n",
    "print('count of o ', a_count)\n",
    "a_count = sent.count('u')\n",
    "print('count of u ', a_count)"
   ]
  },
  {
   "cell_type": "markdown",
   "id": "9ff6a9a4-7d54-4cb9-81ba-8e8bec10e8c7",
   "metadata": {},
   "source": [
    "3. Given a string, reverse the order of characters using string slicing and print the reversed string."
   ]
  },
  {
   "cell_type": "code",
   "execution_count": 8,
   "id": "db82e3f1-7a01-4c6d-87da-559694a8e1a7",
   "metadata": {},
   "outputs": [
    {
     "name": "stdin",
     "output_type": "stream",
     "text": [
      " simpleString\n"
     ]
    },
    {
     "name": "stdout",
     "output_type": "stream",
     "text": [
      "Input String:  simpleString\n",
      "reverse string:  gnirtSelpmis\n"
     ]
    }
   ],
   "source": [
    "input_str = input()\n",
    "print('Input String: ', input_str)\n",
    "reverse_str = input_str[::-1]\n",
    "print('reverse string: ', reverse_str)"
   ]
  },
  {
   "cell_type": "markdown",
   "id": "df634ee0-b5d1-4887-ba4e-4bd2dae22ce1",
   "metadata": {},
   "source": [
    "4. Write a program that takes a string as input and checks if it is a palindrome (reads the same forwards and backwards)."
   ]
  },
  {
   "cell_type": "code",
   "execution_count": 4,
   "id": "64eb9656-5393-4d0b-85ec-1ecd96590d58",
   "metadata": {},
   "outputs": [
    {
     "name": "stdin",
     "output_type": "stream",
     "text": [
      " testString\n"
     ]
    },
    {
     "name": "stdout",
     "output_type": "stream",
     "text": [
      "Input String:  testString\n",
      "testString is NOT a palindrome \n"
     ]
    }
   ],
   "source": [
    "input_str = input()\n",
    "print('Input String: ', input_str)\n",
    "reverse_str = input_str[::-1]\n",
    "if input_str == reverse_str:\n",
    "    print(f'{reverse_str} is a palindrome ')\n",
    "else:\n",
    "    print(f'{input_str} is NOT a palindrome ')"
   ]
  },
  {
   "cell_type": "markdown",
   "id": "4f350f11-e580-4115-9ab9-7c7ffa451eab",
   "metadata": {},
   "source": [
    "5. Create a program that takes a string as input and removes all the spaces from it. Print the modified string without spaces."
   ]
  },
  {
   "cell_type": "code",
   "execution_count": 7,
   "id": "817b9b66-721b-49bd-b15f-7fbde79ec035",
   "metadata": {},
   "outputs": [
    {
     "name": "stdin",
     "output_type": "stream",
     "text": [
      "    again testing with spaces\n"
     ]
    },
    {
     "name": "stdout",
     "output_type": "stream",
     "text": [
      " Input String: ***   again testing with spaces*** and after removing spaces: ***againtestingwithspaces***\n"
     ]
    }
   ],
   "source": [
    "input_str = input()\n",
    "space_removed_str = input_str.replace(' ' ,'')\n",
    "print(f' Input String: ***{input_str}*** and after removing spaces: ***{space_removed_str}***' )"
   ]
  },
  {
   "cell_type": "code",
   "execution_count": null,
   "id": "e6fdaa66-0a5c-45ab-b315-895fb5601306",
   "metadata": {},
   "outputs": [],
   "source": []
  }
 ],
 "metadata": {
  "kernelspec": {
   "display_name": "Python 3 (ipykernel)",
   "language": "python",
   "name": "python3"
  },
  "language_info": {
   "codemirror_mode": {
    "name": "ipython",
    "version": 3
   },
   "file_extension": ".py",
   "mimetype": "text/x-python",
   "name": "python",
   "nbconvert_exporter": "python",
   "pygments_lexer": "ipython3",
   "version": "3.10.8"
  }
 },
 "nbformat": 4,
 "nbformat_minor": 5
}
